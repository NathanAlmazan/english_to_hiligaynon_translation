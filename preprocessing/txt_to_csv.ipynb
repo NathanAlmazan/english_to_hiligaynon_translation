{
 "cells": [
  {
   "cell_type": "code",
   "execution_count": 36,
   "metadata": {},
   "outputs": [
    {
     "name": "stdout",
     "output_type": "stream",
     "text": [
      "11\n",
      "0\n",
      "0\n",
      "1\n",
      "0\n",
      "0\n",
      "8\n",
      "45\n",
      "10\n",
      "58\n",
      "1548\n",
      "637\n",
      "1085\n",
      "572\n",
      "1111\n",
      "225\n",
      "57\n",
      "590\n",
      "337\n",
      "1159\n",
      "\n",
      "16\n",
      "0\n",
      "0\n",
      "1\n",
      "0\n",
      "0\n",
      "14\n",
      "59\n",
      "9\n",
      "62\n",
      "1759\n",
      "677\n",
      "1169\n",
      "671\n",
      "1107\n",
      "290\n",
      "684\n",
      "331\n",
      "1260\n"
     ]
    }
   ],
   "source": [
    "# read files\n",
    "\n",
    "ENG_FILE_NAME = 'g_E_201702'\n",
    "HV_FILE_NAME = 'g_HV_201702'\n",
    "\n",
    "def remove_unnecessary_tokens(file_path):\n",
    "    file = open('texts/' + file_path + '.txt', 'r')\n",
    "    texts = []\n",
    "    for line in file.readlines():\n",
    "        tokens = line.split(' ')\n",
    "        tokens = list(filter(lambda x: len(x) > 0 and x != '\\n', tokens))\n",
    "        print(len(tokens))\n",
    "        texts.append(' '.join(tokens) + ' ')\n",
    "    return texts\n",
    "    \n",
    "eng_texts = remove_unnecessary_tokens(ENG_FILE_NAME)\n",
    "print()\n",
    "hv_texts = remove_unnecessary_tokens(HV_FILE_NAME)"
   ]
  },
  {
   "cell_type": "code",
   "execution_count": 37,
   "metadata": {},
   "outputs": [],
   "source": [
    "import pandas as pd\n",
    "\n",
    "\n",
    "length = len(eng_texts) if len(eng_texts) <= len(hv_texts) else len(hv_texts)\n",
    "for i in range(length):\n",
    "    eng_sentences = eng_texts[i].split(' . ')\n",
    "    hv_sentences = hv_texts[i].split(' . ')\n",
    "    eng_samples = []\n",
    "    hv_samples= []\n",
    "    \n",
    "    size = len(hv_sentences) if len(hv_sentences) <= len(eng_sentences) else len(eng_sentences)\n",
    "    for x in range(size):\n",
    "        eng_samples.append(eng_sentences[x] + ' . ')\n",
    "        hv_samples.append(hv_sentences[x] + ' . ')\n",
    "        \n",
    "    df = pd.DataFrame({\n",
    "        \"en\": eng_samples,\n",
    "        \"hv\": hv_samples\n",
    "    })\n",
    "    \n",
    "    df.to_csv('csvs/' + ENG_FILE_NAME + '_' + str(i) + '.csv') "
   ]
  }
 ],
 "metadata": {
  "kernelspec": {
   "display_name": "Python 3.9.16",
   "language": "python",
   "name": "python3"
  },
  "language_info": {
   "codemirror_mode": {
    "name": "ipython",
    "version": 3
   },
   "file_extension": ".py",
   "mimetype": "text/x-python",
   "name": "python",
   "nbconvert_exporter": "python",
   "pygments_lexer": "ipython3",
   "version": "3.9.16"
  },
  "orig_nbformat": 4,
  "vscode": {
   "interpreter": {
    "hash": "cccc2bf72e25cd1e2c43186e636030c3e5fd2718fd9c33a254a3734b1b01d762"
   }
  }
 },
 "nbformat": 4,
 "nbformat_minor": 2
}
