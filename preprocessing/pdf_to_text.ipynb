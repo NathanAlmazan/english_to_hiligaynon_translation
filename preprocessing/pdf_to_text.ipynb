{
 "cells": [
  {
   "cell_type": "code",
   "execution_count": 12,
   "metadata": {},
   "outputs": [
    {
     "data": {
      "text/plain": [
       "27"
      ]
     },
     "execution_count": 12,
     "metadata": {},
     "output_type": "execute_result"
    }
   ],
   "source": [
    "from ebooklib import epub, ITEM_DOCUMENT\n",
    "from bs4 import BeautifulSoup\n",
    "\n",
    "ENG_FILE_NAME = 'g_E_201702'\n",
    "\n",
    "book = epub.read_epub('epubs/' + ENG_FILE_NAME + '.epub')\n",
    "items = list(book.get_items_of_type(ITEM_DOCUMENT))\n",
    "\n",
    "def chapter_to_str(chapter):\n",
    "    soup = BeautifulSoup(chapter.get_body_content())\n",
    "    text = [p.get_text() for p in soup.find_all('p')]\n",
    "    return ' '.join(text)\n",
    "\n",
    "eng_texts = []\n",
    "for item in items:\n",
    "    eng_texts.append(chapter_to_str(item))\n",
    "    \n",
    "len(eng_texts)"
   ]
  },
  {
   "cell_type": "code",
   "execution_count": 13,
   "metadata": {},
   "outputs": [
    {
     "data": {
      "text/plain": [
       "27"
      ]
     },
     "execution_count": 13,
     "metadata": {},
     "output_type": "execute_result"
    }
   ],
   "source": [
    "from ebooklib import epub, ITEM_DOCUMENT\n",
    "from bs4 import BeautifulSoup\n",
    "\n",
    "HV_FILE_NAME = 'g_HV_201702'\n",
    "\n",
    "book = epub.read_epub('epubs/' + HV_FILE_NAME + '.epub')\n",
    "items = list(book.get_items_of_type(ITEM_DOCUMENT))\n",
    "\n",
    "def chapter_to_str(chapter):\n",
    "    soup = BeautifulSoup(chapter.get_body_content())\n",
    "    text = [p.get_text() for p in soup.find_all('p')]\n",
    "    return ' '.join(text)\n",
    "\n",
    "hv_texts = []\n",
    "for item in items:\n",
    "    hv_texts.append(chapter_to_str(item))\n",
    "    \n",
    "len(hv_texts)"
   ]
  },
  {
   "cell_type": "code",
   "execution_count": 14,
   "metadata": {},
   "outputs": [
    {
     "data": {
      "text/plain": [
       "11"
      ]
     },
     "execution_count": 14,
     "metadata": {},
     "output_type": "execute_result"
    }
   ],
   "source": [
    "# clean texts\n",
    "import re\n",
    "import string\n",
    "\n",
    "def remove_sentences_with_numbers(text):\n",
    "    sentences = re.split(r'[.!?]', text)  # Split text into sentences using punctuation marks\n",
    "    filtered_sentences = [sentence.strip() for sentence in sentences if not re.search(r'\\d', sentence)]\n",
    "    filtered_sentences = list(filter(lambda x: len(x) > 10, filtered_sentences))\n",
    "    filtered_text = '. '.join(filtered_sentences)\n",
    "    return filtered_text.rstrip() + '.'  \n",
    "\n",
    "for i in range(len(eng_texts)):\n",
    "    temp = eng_texts[i]\n",
    "    temp = re.sub(r'\\([^()]*\\)', ' ', temp) # remove citations\n",
    "    temp = re.sub(r'([a-z])([A-Z])', r'\\1 \\2', temp) # remove lower and capital\n",
    "    temp = temp.lower()\n",
    "    temp = re.sub(r\"’\", \"'\", temp) # remove unicode 2060\n",
    "    temp = re.sub(r\"[^\\w\\s\\?\\.,!'-]\", ' ', temp) # remove unnecessary punctuations\n",
    "    temp = remove_sentences_with_numbers(temp) # remove sentences with numbers\n",
    "    temp = temp.replace('\\xa0', ' ') # remove special characters\n",
    "    temp = temp.replace('\\u02b9', ' ') # remove special characters\n",
    "    temp = re.sub(r\"([?.!'-])\", r\" \\1 \", temp) # add space in punctuations\n",
    "    temp = re.sub(r\"(,)\", r\" \\1\", temp) # add space in punctuations\n",
    "    \n",
    "    eng_texts[i] = temp.lstrip()\n",
    "\n",
    "eng_texts = list(filter(lambda x: len(x) > 5, eng_texts))\n",
    "len(eng_texts)"
   ]
  },
  {
   "cell_type": "code",
   "execution_count": 15,
   "metadata": {},
   "outputs": [],
   "source": [
    "file_path = 'texts/' + ENG_FILE_NAME + '.txt'\n",
    "with open(file_path, \"w\") as file:\n",
    "    # Write content to the file\n",
    "    for txt in eng_texts:\n",
    "        file.write(txt + \"\\n\")"
   ]
  },
  {
   "cell_type": "code",
   "execution_count": 16,
   "metadata": {},
   "outputs": [
    {
     "data": {
      "text/plain": [
       "16"
      ]
     },
     "execution_count": 16,
     "metadata": {},
     "output_type": "execute_result"
    }
   ],
   "source": [
    "# clean texts\n",
    "import re\n",
    "import string\n",
    "\n",
    "def remove_sentences_with_numbers(text):\n",
    "    sentences = re.split(r'[.!?]', text)  # Split text into sentences using punctuation marks\n",
    "    filtered_sentences = [sentence.strip() for sentence in sentences if not re.search(r'\\d', sentence)]\n",
    "    filtered_sentences = list(filter(lambda x: len(x) > 10, filtered_sentences))\n",
    "    filtered_text = '. '.join(filtered_sentences)\n",
    "    return filtered_text.rstrip() + '.'  \n",
    "\n",
    "for i in range(len(hv_texts)):\n",
    "    temp = hv_texts[i]\n",
    "    temp = re.sub(r'\\([^()]*\\)', ' ', temp) # remove citations\n",
    "    temp = re.sub(r'([a-z])([A-Z])', r'\\1 \\2', temp) # remove lower and capital\n",
    "    temp = temp.lower()\n",
    "    temp = re.sub(r\"’\", \"'\", temp) # remove unicode 2060\n",
    "    temp = re.sub(r\"[^\\w\\s\\?\\.,!'-]\", ' ', temp) # remove unnecessary punctuations\n",
    "    temp = remove_sentences_with_numbers(temp) # remove sentences with numbers\n",
    "    temp = temp.replace('\\xa0', ' ') # remove special characters\n",
    "    temp = temp.replace('\\u02b9', ' ') # remove special characters\n",
    "    temp = re.sub(r\"([?.!'-])\", r\" \\1 \", temp) # add space in punctuations\n",
    "    temp = re.sub(r\"(,)\", r\" \\1\", temp) # add space in punctuations\n",
    "    \n",
    "    hv_texts[i] = temp.lstrip()\n",
    "\n",
    "hv_texts = list(filter(lambda x: len(x) > 5, hv_texts))\n",
    "len(hv_texts)"
   ]
  },
  {
   "cell_type": "code",
   "execution_count": 17,
   "metadata": {},
   "outputs": [],
   "source": [
    "file_path = 'texts/' + HV_FILE_NAME + '.txt'\n",
    "with open(file_path, \"w\") as file:\n",
    "    # Write content to the file\n",
    "    for txt in hv_texts:\n",
    "        file.write(txt + \"\\n\")"
   ]
  }
 ],
 "metadata": {
  "kernelspec": {
   "display_name": "Python 3.9.16",
   "language": "python",
   "name": "python3"
  },
  "language_info": {
   "codemirror_mode": {
    "name": "ipython",
    "version": 3
   },
   "file_extension": ".py",
   "mimetype": "text/x-python",
   "name": "python",
   "nbconvert_exporter": "python",
   "pygments_lexer": "ipython3",
   "version": "3.9.16"
  },
  "orig_nbformat": 4,
  "vscode": {
   "interpreter": {
    "hash": "cccc2bf72e25cd1e2c43186e636030c3e5fd2718fd9c33a254a3734b1b01d762"
   }
  }
 },
 "nbformat": 4,
 "nbformat_minor": 2
}
