{
 "cells": [
  {
   "cell_type": "code",
   "execution_count": null,
   "metadata": {},
   "outputs": [],
   "source": [
    "# for backup\n",
    "import glob\n",
    "import pandas as pd\n",
    "\n",
    "# list all csv files only\n",
    "csv_files = glob.glob('csvs/*.{}'.format('csv'))\n",
    "\n",
    "df_csv_concat = pd.concat([pd.read_csv(file) for file in csv_files ], ignore_index=True)\n",
    "df_csv_concat.to_csv('backup/en_hv_dataset_2.csv', index=False)\n",
    "df_csv_concat"
   ]
  }
 ],
 "metadata": {
  "kernelspec": {
   "display_name": "Python 3.9.16",
   "language": "python",
   "name": "python3"
  },
  "language_info": {
   "name": "python",
   "version": "3.9.16"
  },
  "orig_nbformat": 4,
  "vscode": {
   "interpreter": {
    "hash": "cccc2bf72e25cd1e2c43186e636030c3e5fd2718fd9c33a254a3734b1b01d762"
   }
  }
 },
 "nbformat": 4,
 "nbformat_minor": 2
}
